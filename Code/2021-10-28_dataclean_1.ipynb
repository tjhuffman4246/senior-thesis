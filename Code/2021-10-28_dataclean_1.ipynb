{
 "cells": [
  {
   "cell_type": "markdown",
   "metadata": {},
   "source": [
    "# First Data Clean\n",
    "## Oct. 28, 2021"
   ]
  },
  {
   "cell_type": "code",
   "execution_count": 63,
   "metadata": {},
   "outputs": [],
   "source": [
    "import pandas as pd\n",
    "import csv\n",
    "import os\n",
    "from glob import glob"
   ]
  },
  {
   "cell_type": "markdown",
   "metadata": {},
   "source": [
    "Removing certain rows from data in order to put it in a more workable format. This does the following:\n",
    "\n",
    "* removes summary rows, for both minors and majors\n",
    "* removes \"Notes\" column, in minors\n",
    "* removes Position and OPS+ and ERA+/FIP columns, in majors (to get same dimensionality as minors)"
   ]
  },
  {
   "cell_type": "code",
   "execution_count": 40,
   "metadata": {},
   "outputs": [],
   "source": [
    "# Revises path to access the data we want\n",
    "\n",
    "cwd = os.getcwd()\n",
    "data_path = os.path.dirname(cwd) + '/Data'\n",
    "\n",
    "# Gets path for every data file we have\n",
    "\n",
    "all_csv_files = [file\n",
    "                 for path, subdir, files in os.walk(data_path)\n",
    "                 for file in glob(os.path.join(path, '*.csv'))]"
   ]
  },
  {
   "cell_type": "code",
   "execution_count": 41,
   "metadata": {},
   "outputs": [],
   "source": [
    "# Gets list of paths for major and minor league teams\n",
    "# This differs because the data is not the same for majors and minors\n",
    "\n",
    "majors = [path for path in all_csv_files if 'MLB' in path]\n",
    "minors = [path for path in all_csv_files if path not in majors]"
   ]
  },
  {
   "cell_type": "code",
   "execution_count": 55,
   "metadata": {},
   "outputs": [],
   "source": [
    "lines = []\n",
    "\n",
    "# Indices to exclude, corresponding to the \"Notes\" column\n",
    "\n",
    "idx_bat = 25\n",
    "idx_pitch = 30\n",
    "\n",
    "# Loops over each file and removes the summary \"Players\" row\n",
    "# Saves to \"Clean\" folder\n",
    "\n",
    "for path in minors:\n",
    "    \n",
    "    with open(path, 'r') as readFile:\n",
    "        reader = csv.reader(readFile)\n",
    "        \n",
    "        idx = idx_pitch if 'pitch' in path else idx_bat # getting correct index\n",
    "        \n",
    "        for row in reader:\n",
    "            \n",
    "            row_mod = row[:idx] + row[(idx+1):]\n",
    "            lines.append(row_mod)\n",
    "            \n",
    "            for field in row_mod: # for each element in the row\n",
    "                if 'Players' in field:\n",
    "                    lines.remove(row_mod)\n",
    "\n",
    "    with open(path.replace('Raw', 'Clean'), 'w') as writeFile:\n",
    "        \n",
    "        writer = csv.writer(writeFile)\n",
    "        writer.writerows(lines)\n",
    "        \n",
    "    lines = [] # resets the list so that we don't keep appending more lines"
   ]
  },
  {
   "cell_type": "code",
   "execution_count": 66,
   "metadata": {},
   "outputs": [],
   "source": [
    "lines = []\n",
    "\n",
    "# Indices to exclude, corresponding to the OPS+ and ERA+/FIP columns\n",
    "\n",
    "idx_bat = 20\n",
    "idx_pitch = [25, 26]\n",
    "\n",
    "# Strings that we'd exclude if they were player positions\n",
    "\n",
    "str_excl = ['', '1', 'P']\n",
    "\n",
    "# Loops over each file and removes the summary \"Players\" row\n",
    "# Saves to \"Clean\" folder\n",
    "\n",
    "for path in majors:\n",
    "    \n",
    "    with open(path, 'r') as readFile:\n",
    "        reader = csv.reader(readFile)\n",
    "        \n",
    "        idx = idx_pitch if 'pitch' in path else idx_bat # getting correct indices\n",
    "        \n",
    "        for row in reader:\n",
    "            \n",
    "            pos = row[0] # grabbing to check if it's data we want\n",
    "            \n",
    "            if idx == idx_bat:\n",
    "                if pos not in str_excl: # if it's not a pitcher hitting, or a summary row\n",
    "                    row_mod = row[1:idx] + row[(idx+1):]\n",
    "                    \n",
    "            else: # if we're looking at pitcher data\n",
    "                \n",
    "                name = row[1] # because the summary rows are formatted differently\n",
    "                \n",
    "                if pos != str_excl[1] and ('Team Totals' not in name and 'Rank in' not in name):\n",
    "                    \n",
    "                    row_mod = row[1:idx[0]] + row[(idx[1]+1):]\n",
    "            \n",
    "            lines.append(row_mod)\n",
    "            \n",
    "    with open(path.replace('Raw', 'Clean'), 'w') as writeFile:\n",
    "        \n",
    "        # Gets unique lines because the above code is slightly buggy\n",
    "        \n",
    "        lines_unique = []\n",
    "        \n",
    "        for line in lines:\n",
    "            if line not in lines_unique:\n",
    "                lines_unique.append(line)\n",
    "        \n",
    "        writer = csv.writer(writeFile)\n",
    "        writer.writerows(lines_unique)\n",
    "        \n",
    "    lines = [] # resets the list so that we don't keep appending more lines"
   ]
  },
  {
   "cell_type": "code",
   "execution_count": null,
   "metadata": {},
   "outputs": [],
   "source": []
  }
 ],
 "metadata": {
  "kernelspec": {
   "display_name": "Python 3",
   "language": "python",
   "name": "python3"
  },
  "language_info": {
   "codemirror_mode": {
    "name": "ipython",
    "version": 3
   },
   "file_extension": ".py",
   "mimetype": "text/x-python",
   "name": "python",
   "nbconvert_exporter": "python",
   "pygments_lexer": "ipython3",
   "version": "3.8.3"
  }
 },
 "nbformat": 4,
 "nbformat_minor": 4
}
