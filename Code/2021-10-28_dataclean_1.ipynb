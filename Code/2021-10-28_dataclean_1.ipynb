{
 "cells": [
  {
   "cell_type": "markdown",
   "metadata": {},
   "source": [
    "# First Data Clean\n",
    "## Oct. 28, 2021"
   ]
  },
  {
   "cell_type": "code",
   "execution_count": 17,
   "metadata": {},
   "outputs": [],
   "source": [
    "import pandas as pd\n",
    "import csv\n",
    "import os\n",
    "from glob import glob"
   ]
  },
  {
   "cell_type": "markdown",
   "metadata": {},
   "source": [
    "Removing certain rows from data in order to put it in a more workable format."
   ]
  },
  {
   "cell_type": "code",
   "execution_count": 40,
   "metadata": {},
   "outputs": [],
   "source": [
    "# Revises path to access the data we want\n",
    "\n",
    "cwd = os.getcwd()\n",
    "data_path = os.path.dirname(cwd) + '/Data'\n",
    "\n",
    "# Gets path for every data file we have\n",
    "\n",
    "all_csv_files = [file\n",
    "                 for path, subdir, files in os.walk(data_path)\n",
    "                 for file in glob(os.path.join(path, '*.csv'))]"
   ]
  },
  {
   "cell_type": "code",
   "execution_count": 41,
   "metadata": {},
   "outputs": [],
   "source": [
    "# Gets list of paths for major and minor league teams\n",
    "# This differs because the data is not the same for majors and minors\n",
    "\n",
    "majors = [path for path in all_csv_files if 'MLB' in path]\n",
    "minors = [path for path in all_csv_files if path not in majors]"
   ]
  },
  {
   "cell_type": "code",
   "execution_count": 55,
   "metadata": {},
   "outputs": [],
   "source": [
    "lines = []\n",
    "\n",
    "# Indices to exclude, corresponding to the \"Notes\" column\n",
    "\n",
    "idx_bat = 25\n",
    "idx_pitch = 30\n",
    "\n",
    "# Loops over each file and removes the summary \"Players\" row\n",
    "# Saves to \"Clean\" folder\n",
    "\n",
    "for path in minors:\n",
    "    \n",
    "    with open(path, 'r') as readFile:\n",
    "        reader = csv.reader(readFile)\n",
    "        \n",
    "        idx = idx_pitch if 'pitch' in path else idx_bat # getting correct index\n",
    "        \n",
    "        for row in reader:\n",
    "            \n",
    "            row_mod = row[:idx] + row[(idx+1):]\n",
    "            lines.append(row_mod)\n",
    "            \n",
    "            for field in row_mod: # for each element in the row\n",
    "                if 'Players' in field:\n",
    "                    lines.remove(row_mod)\n",
    "\n",
    "    with open(path.replace('Raw', 'Clean'), 'w') as writeFile:\n",
    "        \n",
    "        writer = csv.writer(writeFile)\n",
    "        writer.writerows(lines)\n",
    "        \n",
    "    lines = [] # resets the list so that we don't keep appending more lines"
   ]
  },
  {
   "cell_type": "code",
   "execution_count": 53,
   "metadata": {},
   "outputs": [
    {
     "data": {
      "text/plain": [
       "['Name',\n",
       " 'Age',\n",
       " 'W',\n",
       " 'L',\n",
       " 'W-L%',\n",
       " 'ERA',\n",
       " 'G',\n",
       " 'GS',\n",
       " 'GF',\n",
       " 'CG',\n",
       " 'SHO',\n",
       " 'SV',\n",
       " 'IP',\n",
       " 'H',\n",
       " 'R',\n",
       " 'ER',\n",
       " 'HR',\n",
       " 'BB',\n",
       " 'IBB',\n",
       " 'SO',\n",
       " 'HBP',\n",
       " 'BK',\n",
       " 'WP',\n",
       " 'BF',\n",
       " 'WHIP',\n",
       " 'H9',\n",
       " 'HR9',\n",
       " 'BB9',\n",
       " 'SO9',\n",
       " 'SO/W',\n",
       " 'MLB']"
      ]
     },
     "execution_count": 53,
     "metadata": {},
     "output_type": "execute_result"
    }
   ],
   "source": [
    "lines[0][:30] + lines[0][31:]"
   ]
  },
  {
   "cell_type": "code",
   "execution_count": null,
   "metadata": {},
   "outputs": [],
   "source": []
  }
 ],
 "metadata": {
  "kernelspec": {
   "display_name": "Python 3",
   "language": "python",
   "name": "python3"
  },
  "language_info": {
   "codemirror_mode": {
    "name": "ipython",
    "version": 3
   },
   "file_extension": ".py",
   "mimetype": "text/x-python",
   "name": "python",
   "nbconvert_exporter": "python",
   "pygments_lexer": "ipython3",
   "version": "3.8.3"
  }
 },
 "nbformat": 4,
 "nbformat_minor": 4
}
