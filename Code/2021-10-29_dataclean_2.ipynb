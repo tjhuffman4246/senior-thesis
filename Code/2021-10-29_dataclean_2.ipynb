{
 "cells": [
  {
   "cell_type": "markdown",
   "metadata": {},
   "source": [
    "# Second Data Clean\n",
    "## Oct. 29, 2021"
   ]
  },
  {
   "cell_type": "code",
   "execution_count": 9,
   "metadata": {},
   "outputs": [],
   "source": [
    "import pandas as pd\n",
    "import csv\n",
    "import os\n",
    "from glob import glob\n",
    "import re"
   ]
  },
  {
   "cell_type": "markdown",
   "metadata": {},
   "source": [
    "Combining files cleaned in Oct. 28 file into one long file, for both pitchers and hitters."
   ]
  },
  {
   "cell_type": "code",
   "execution_count": 2,
   "metadata": {},
   "outputs": [],
   "source": [
    "# Revises path to access the data we want\n",
    "\n",
    "cwd = os.getcwd()\n",
    "data_path = os.path.dirname(cwd) + '/Data/Clean'\n",
    "\n",
    "# Gets path for every data file we have\n",
    "\n",
    "all_csv_files = [file\n",
    "                 for path, subdir, files in os.walk(data_path)\n",
    "                 for file in glob(os.path.join(path, '*.csv'))]"
   ]
  },
  {
   "cell_type": "code",
   "execution_count": 22,
   "metadata": {},
   "outputs": [],
   "source": [
    "lines = []\n",
    "\n",
    "# Loops over each file and adds a column for year, team, and level\n",
    "# Saves to \"Clean\" folder\n",
    "\n",
    "for path in all_csv_files:\n",
    "    \n",
    "    with open(path, 'r') as readFile:\n",
    "        reader = csv.reader(readFile)\n",
    "        \n",
    "        # Getting the year, level, and organization from the file path\n",
    "                         \n",
    "        year = re.search('pitch/(.+?)/', path).group(1) if 'pitch' in path else re.search('bat/(.+?)/', path).group(1)\n",
    "        level = re.search(f'{year}/(.+?)/', path).group(1)\n",
    "        org = re.search(f'{level}_(.+?)_', path).group(1)\n",
    "        \n",
    "        for idx, row in enumerate(reader):\n",
    "            \n",
    "            if idx == 0: # adds the column header if it's the first row\n",
    "                row_mod = row + ['Year', 'Level', 'Org']\n",
    "                \n",
    "            else: # otherwise adds the info we found above\n",
    "                row_mod = row + [year, level, org]\n",
    "                \n",
    "            lines.append(row_mod)\n",
    "            \n",
    "    with open(path.replace('Raw', 'Clean'), 'w') as writeFile:\n",
    "        \n",
    "        writer = csv.writer(writeFile)\n",
    "        writer.writerows(lines)\n",
    "        \n",
    "    lines = [] # resets the list so that we don't keep appending more lines"
   ]
  },
  {
   "cell_type": "code",
   "execution_count": null,
   "metadata": {},
   "outputs": [],
   "source": []
  },
  {
   "cell_type": "code",
   "execution_count": null,
   "metadata": {},
   "outputs": [],
   "source": []
  }
 ],
 "metadata": {
  "kernelspec": {
   "display_name": "Python 3",
   "language": "python",
   "name": "python3"
  },
  "language_info": {
   "codemirror_mode": {
    "name": "ipython",
    "version": 3
   },
   "file_extension": ".py",
   "mimetype": "text/x-python",
   "name": "python",
   "nbconvert_exporter": "python",
   "pygments_lexer": "ipython3",
   "version": "3.8.3"
  }
 },
 "nbformat": 4,
 "nbformat_minor": 4
}
